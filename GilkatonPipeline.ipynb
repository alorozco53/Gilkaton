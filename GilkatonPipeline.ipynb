{
 "cells": [
  {
   "cell_type": "markdown",
   "metadata": {},
   "source": [
    "# Gilkatón"
   ]
  },
  {
   "cell_type": "code",
   "execution_count": 1,
   "metadata": {
    "collapsed": true
   },
   "outputs": [],
   "source": [
    "from docx import Document\n",
    "import re\n",
    "import csv\n",
    "import nltk"
   ]
  },
  {
   "cell_type": "code",
   "execution_count": 2,
   "metadata": {
    "collapsed": true
   },
   "outputs": [],
   "source": [
    "# Read sample document\n",
    "document = Document('Documentos/P_IFT_161215_601_Acc.docx')"
   ]
  },
  {
   "cell_type": "code",
   "execution_count": 3,
   "metadata": {
    "collapsed": false
   },
   "outputs": [],
   "source": [
    "paragraphs = [para.text for para in document.paragraphs]"
   ]
  },
  {
   "cell_type": "markdown",
   "metadata": {},
   "source": [
    "## Raw sentence preprocessing"
   ]
  },
  {
   "cell_type": "code",
   "execution_count": 4,
   "metadata": {
    "collapsed": true
   },
   "outputs": [],
   "source": [
    "# Returns each sentence where the given regex is found\n",
    "# text := [string]\n",
    "def ctx_sentence(para, regex):\n",
    "    p = re.sub('C\\.', 'C', para)\n",
    "    sents = [w.strip() for w in re.split('[\\.?!;]', p)]\n",
    "    for s in sents:\n",
    "        match = regex.search(s)\n",
    "        if match:\n",
    "            return re.sub('\\\\bC\\\\b', 'C.', s)\n",
    "    return para"
   ]
  },
  {
   "cell_type": "code",
   "execution_count": 5,
   "metadata": {
    "collapsed": false
   },
   "outputs": [],
   "source": [
    "# articles = re.compile('(el artículo)|(los artículos)')\n",
    "# ctx_sentence(paragraphs, articles)"
   ]
  },
  {
   "cell_type": "code",
   "execution_count": 6,
   "metadata": {
    "collapsed": false
   },
   "outputs": [
    {
     "data": {
      "text/plain": [
       "['hahah. sijodjf.  fposjdf. oisdjf', '  f jd ojd. 00?']"
      ]
     },
     "execution_count": 6,
     "metadata": {},
     "output_type": "execute_result"
    }
   ],
   "source": [
    "re.split('\\.?;', 'hahah. sijodjf.  fposjdf. oisdjf;  f jd ojd. 00?')"
   ]
  },
  {
   "cell_type": "markdown",
   "metadata": {},
   "source": [
    "## Entidades "
   ]
  },
  {
   "cell_type": "code",
   "execution_count": 7,
   "metadata": {
    "collapsed": true
   },
   "outputs": [],
   "source": [
    "ctx_regex = re.compile('(el|la|El|La) [A-ZÁÉÍÓÚÑ][a-záéíóúñ]+ [A-ZÁÉÍÓÚÑ][a-záéíóúñ]+.*?\\)')\n",
    "# ctx_regex = re.compile('(el|la|El|La) (([A-ZÁÉÍÓÚÑ][a-záéíóúñ]+|((y|e|de(l| la| los)?)))[ ,\\.;])+')"
   ]
  },
  {
   "cell_type": "code",
   "execution_count": 8,
   "metadata": {
    "collapsed": false
   },
   "outputs": [],
   "source": [
    "# Contexts\n",
    "contexts = []\n",
    "for para in paragraphs:\n",
    "    for match in ctx_regex.finditer(para):\n",
    "        contexts.append(match.group())"
   ]
  },
  {
   "cell_type": "code",
   "execution_count": 9,
   "metadata": {
    "collapsed": false
   },
   "outputs": [
    {
     "data": {
      "text/plain": [
       "['la Coordinación General de Servicios de Telecomunicaciones de la extinta Comisión Federal de Telecomunicaciones (la “Comisión”)',\n",
       " 'el Diario Oficial de la Federación el “Decreto por el que se reforman y adicionan diversas disposiciones de los artículos 6o., 7o., 27, 28, 73, 78, 94 y 105 de la Constitución Política de los Estados Unidos Mexicanos, en materia de telecomunicaciones” (el “Decreto de Reforma Constitucional”)',\n",
       " 'el Instituto Federal de Telecomunicaciones (el “Instituto”)',\n",
       " 'el Diario Oficial de la Federación el “Decreto por el que se expiden la Ley Federal de Telecomunicaciones y Radiodifusión, y la Ley del Sistema Público de Radiodifusión del Estado Mexicano; y se reforman, adicionan y derogan diversas disposiciones en materia de telecomunicaciones y radiodifusión” (el “Decreto de Ley”)',\n",
       " 'el Diario Oficial de la Federación el “Estatuto Orgánico del Instituto Federal de Telecomunicaciones” (el “Estatuto Orgánico”)',\n",
       " 'el Diario Oficial de la Federación los “Lineamientos generales para el otorgamiento de concesiones a que se refiere el título cuarto de la Ley Federal de Telecomunicaciones y Radiodifusión” (los “Lineamientos”)',\n",
       " 'la Concesión Única para Uso Comercial. Con fecha 9 de octubre de 2015, TV de Calpulalpan, S.A. de C.V. solicitó, a través de su representante legal, autorización para transitar la Concesión, al régimen de Concesión Única para Uso Comercial (la “Solicitud de Transición”)',\n",
       " 'la Constitución Política de los Estados Unidos Mexicanos (la “Constitución”)',\n",
       " 'la Ley Federal de Telecomunicaciones y Radiodifusión (la “Ley”)',\n",
       " 'la Concesión Única para Uso Comercial o para consolidar concesiones en una Concesión Única para Uso Comercial, el solicitante deberá encontrarse en cumplimiento de: (i)',\n",
       " 'el Resolutivo Primero, el Instituto Federal de Telecomunicaciones otorgará un título de concesión única para uso comercial, en favor de TV de Calpulalpan, S.A. de C.V., con una vigencia de 30 (treinta)']"
      ]
     },
     "execution_count": 9,
     "metadata": {},
     "output_type": "execute_result"
    }
   ],
   "source": [
    "contexts"
   ]
  },
  {
   "cell_type": "code",
   "execution_count": 10,
   "metadata": {
    "collapsed": false
   },
   "outputs": [],
   "source": [
    "# Entities\n",
    "\n",
    "# Delete initial article\n",
    "entities = [re.sub('el|la|El|La', '', ctx, 1).strip() for ctx in contexts]\n",
    "\n",
    "# Delete abbreviations\n",
    "entities = [re.sub('\\(.*\\)', '', ent).strip() for ent in entities]\n",
    "\n",
    "# Delete potential garbage\n",
    "entities = [re.split('[;,]', ent)[0] for ent in entities]"
   ]
  },
  {
   "cell_type": "code",
   "execution_count": 11,
   "metadata": {
    "collapsed": false
   },
   "outputs": [
    {
     "data": {
      "text/plain": [
       "['Coordinación General de Servicios de Telecomunicaciones de la extinta Comisión Federal de Telecomunicaciones',\n",
       " 'Diario Oficial de la Federación el “Decreto por el que se reforman y adicionan diversas disposiciones de los artículos 6o.',\n",
       " 'Instituto Federal de Telecomunicaciones',\n",
       " 'Diario Oficial de la Federación el “Decreto por el que se expiden la Ley Federal de Telecomunicaciones y Radiodifusión',\n",
       " 'Diario Oficial de la Federación el “Estatuto Orgánico del Instituto Federal de Telecomunicaciones”',\n",
       " 'Diario Oficial de la Federación los “Lineamientos generales para el otorgamiento de concesiones a que se refiere el título cuarto de la Ley Federal de Telecomunicaciones y Radiodifusión”',\n",
       " 'Concesión Única para Uso Comercial. Con fecha 9 de octubre de 2015',\n",
       " 'Constitución Política de los Estados Unidos Mexicanos',\n",
       " 'Ley Federal de Telecomunicaciones y Radiodifusión',\n",
       " 'Concesión Única para Uso Comercial o para consolidar concesiones en una Concesión Única para Uso Comercial',\n",
       " 'Resolutivo Primero']"
      ]
     },
     "execution_count": 11,
     "metadata": {},
     "output_type": "execute_result"
    }
   ],
   "source": [
    "entities"
   ]
  },
  {
   "cell_type": "code",
   "execution_count": 12,
   "metadata": {
    "collapsed": false
   },
   "outputs": [],
   "source": [
    "# Abbreviations\n",
    "abbreviations = []\n",
    "context_clues = ['(a partir de)',\n",
    "                 '(en lo sucesivo)',\n",
    "                 '(de ahora en adelante)',\n",
    "                 '(se entenderá por)',\n",
    "                 '(se denominará como)']\n",
    "context_clues_regex = re.compile('|'.join(context_clues))\n",
    "for ctx in contexts:\n",
    "    first_match = re.search('\\(.*.*\\)', ctx)\n",
    "    if first_match:\n",
    "        second_match = re.search('(\\\"|\\“|\\”|\\').*(\\“|\\\"|\\”|\\')', first_match.group())\n",
    "        if second_match:\n",
    "            abbreviations.append(second_match.group())\n",
    "        else:\n",
    "            trimmed = context_clues_regex.sub('', first_match.group())\n",
    "            abbreviations.append(trimmed)\n",
    "abbreviations = [re.sub('\\\"|\\“|\\”|\\'', '', ab).strip() for ab in abbreviations]"
   ]
  },
  {
   "cell_type": "code",
   "execution_count": 13,
   "metadata": {
    "collapsed": false
   },
   "outputs": [
    {
     "data": {
      "text/plain": [
       "['Comisión',\n",
       " 'Decreto de Reforma Constitucional',\n",
       " 'Instituto',\n",
       " 'Decreto de Ley',\n",
       " 'Estatuto Orgánico',\n",
       " 'Lineamientos',\n",
       " 'Solicitud de Transición',\n",
       " 'Constitución',\n",
       " 'Ley',\n",
       " '(i)',\n",
       " '(treinta)']"
      ]
     },
     "execution_count": 13,
     "metadata": {},
     "output_type": "execute_result"
    }
   ],
   "source": [
    "abbreviations"
   ]
  },
  {
   "cell_type": "code",
   "execution_count": 14,
   "metadata": {
    "collapsed": false
   },
   "outputs": [],
   "source": [
    "# Serialize the info into CSV\n",
    "first_header = ['CONTEXTO', 'ENTIDAD', 'ABREVIATURAS']\n",
    "with open('entidades.csv', 'w') as f:\n",
    "    writer = csv.writer(f)\n",
    "    writer.writerow(first_header)\n",
    "    for row in zip(contexts, entities, abbreviations):\n",
    "        writer.writerow(row)"
   ]
  },
  {
   "cell_type": "markdown",
   "metadata": {},
   "source": [
    "## Sucesos"
   ]
  },
  {
   "cell_type": "code",
   "execution_count": 15,
   "metadata": {
    "collapsed": false
   },
   "outputs": [],
   "source": [
    "months = ['(enero)', \n",
    "          '(febrero)', \n",
    "          '(marzo)', \n",
    "          '(abril)',\n",
    "          '(mayo)',\n",
    "          '(junio)',\n",
    "          '(julio)',\n",
    "          '(agosto)',\n",
    "          '(septiembre)',\n",
    "          '(octubre)',\n",
    "          '(noviembre)',\n",
    "          '(diciembre)']\n",
    "hundreds = ['cien', \n",
    "            'doscientos', \n",
    "            'trescientos',\n",
    "            'cuatrocientos',\n",
    "            'quinientos',\n",
    "            'seiscientos',\n",
    "            'setecientos',\n",
    "            'ochocientos',\n",
    "            'novecientos']\n",
    "units = []\n",
    "ones = []\n",
    "day_regex = '(primero)|(veinte)|(treinta)'\n",
    "num_map = {\n",
    "    '(primero)': '1',\n",
    "    '(veinte)': '20',\n",
    "    '(treinta)': '30'\n",
    "}\n",
    "with open('0s.txt', 'r') as f:\n",
    "    for num, line in enumerate(f):\n",
    "        val1 = '({})'.format(line.strip())\n",
    "        val2 = '(veinti{})'.format(line.strip())\n",
    "        units.append(val1)\n",
    "        units.append(val2)\n",
    "        num_map[val1] = str(num + 1)\n",
    "        num_map[val2] = '2{}'.format(str(num + 1))\n",
    "        if line in ['uno', 'dos']:\n",
    "            val3 = '(treinta y {})'.format(line.strip())\n",
    "            units.append(val3)\n",
    "            num_map[val3] = '3{}'.format(str(num + 1))\n",
    "day_regex += '|' + '|'.join(units)\n",
    "with open('1s.txt', 'r') as f:\n",
    "    for num, line in enumerate(f):\n",
    "        val = '({})'.format(line.strip())\n",
    "        ones.append(val)\n",
    "        num_map[val] = '1{}'.format(str(num + 1))\n",
    "day_regex += '|' + '|'.join(ones)\n",
    "day_regex = re.compile(day_regex)"
   ]
  },
  {
   "cell_type": "code",
   "execution_count": 16,
   "metadata": {
    "collapsed": false
   },
   "outputs": [
    {
     "data": {
      "text/plain": [
       "{'(catorce)': '14',\n",
       " '(cinco)': '5',\n",
       " '(cuatro)': '4',\n",
       " '(diecinueve)': '19',\n",
       " '(dieciocho)': '18',\n",
       " '(diecisiete)': '17',\n",
       " '(dieciséis)': '16',\n",
       " '(doce)': '12',\n",
       " '(dos)': '2',\n",
       " '(nueve)': '9',\n",
       " '(ocho)': '8',\n",
       " '(once)': '11',\n",
       " '(primero)': '1',\n",
       " '(quince)': '15',\n",
       " '(seis)': '6',\n",
       " '(siete)': '7',\n",
       " '(trece)': '13',\n",
       " '(treinta)': '30',\n",
       " '(tres)': '3',\n",
       " '(uno)': '1',\n",
       " '(veinte)': '20',\n",
       " '(veinticinco)': '25',\n",
       " '(veinticuatro)': '24',\n",
       " '(veintidos)': '22',\n",
       " '(veintinueve)': '29',\n",
       " '(veintiocho)': '28',\n",
       " '(veintiseis)': '26',\n",
       " '(veintisiete)': '27',\n",
       " '(veintitres)': '23',\n",
       " '(veintiuno)': '21'}"
      ]
     },
     "execution_count": 16,
     "metadata": {},
     "output_type": "execute_result"
    }
   ],
   "source": [
    "num_map"
   ]
  },
  {
   "cell_type": "code",
   "execution_count": 17,
   "metadata": {
    "collapsed": false
   },
   "outputs": [],
   "source": [
    "def to_digits(text, mode):\n",
    "    assert mode in ['day', 'month', 'year']\n",
    "    if mode == 'day':\n",
    "        try:\n",
    "            match = day_regex.search(text)\n",
    "            if match:\n",
    "                t = match.group()\n",
    "                conv = num_map['({})'.format(t)]\n",
    "                return conv\n",
    "            else:\n",
    "                return text\n",
    "        except KeyError:\n",
    "            return text\n",
    "    elif mode == 'month':\n",
    "        for num, m in enumerate(months):\n",
    "            month = '({})'.format(text)\n",
    "            if m == month:\n",
    "                mn = str(num + 1)\n",
    "                if len(mn) < 2:\n",
    "                    return '0{}'.format(mn)\n",
    "                else:\n",
    "                    return mn\n",
    "        return ''\n",
    "    elif mode == 'year':\n",
    "        spl = text.split()\n",
    "        if text.startswith('dos'):\n",
    "            conv = '2'\n",
    "            spl = spl[1:]\n",
    "        else:\n",
    "            conv = '1'\n",
    "        for part in spl:\n",
    "            match = day_regex.search(part)\n",
    "            if match:\n",
    "                case = '({})'.format(part)\n",
    "                if conv and conv[-1] in ['9', '0'] and int(num_map[case]) < 10:\n",
    "                    conv += '0{}'.format(num_map[case])\n",
    "                else:\n",
    "                    conv += num_map[case]\n",
    "            elif part == 'mil':\n",
    "                conv += '0'\n",
    "            elif part in hundreds:\n",
    "                conv += str(hundreds.index(part) + 1)\n",
    "        return conv"
   ]
  },
  {
   "cell_type": "code",
   "execution_count": 18,
   "metadata": {
    "collapsed": true
   },
   "outputs": [],
   "source": [
    "def date_parser(text):\n",
    "    day = ''\n",
    "    month = ''\n",
    "    year = ''\n",
    "    splitted = [w.strip() for w in re.split('del?', text)]\n",
    "    print(splitted)\n",
    "    for word in splitted:\n",
    "        day_match = re.search('\\\\b([123](o?\\.?))?[0-9]\\\\b', word)\n",
    "        if day_match:\n",
    "            day = day_match.group()\n",
    "        month_match = re.search('%s' % '|'.join(months), word)\n",
    "        if month_match:\n",
    "            month = month_match.group()\n",
    "            month = to_digits(month, mode='month')\n",
    "        year_match = re.search('[0-9]{4}', word)\n",
    "        if year_match:\n",
    "            year = year_match.group()\n",
    "    if not day:\n",
    "        day = to_digits(splitted[0], mode='day')\n",
    "    if not year:\n",
    "        year = to_digits(splitted[2], mode='year')\n",
    "    return '/'.join([day, month, year])"
   ]
  },
  {
   "cell_type": "code",
   "execution_count": 19,
   "metadata": {
    "collapsed": false
   },
   "outputs": [
    {
     "name": "stdout",
     "output_type": "stream",
     "text": [
      "['30', 'octubre', '1997']\n",
      "['8', 'febrero', '2002']\n",
      "['1', 'marzo', '2004']\n",
      "['1', 'diciembre', '2005']\n",
      "['17', 'julio', '2007']\n",
      "['11', 'junio', '2013']\n",
      "['14', 'julio', '2014']\n",
      "['4', 'septiembre', '2014']\n",
      "['24', 'julio', '2015']\n",
      "['9', 'octubre', '2015']\n",
      "['17', 'noviembre', '2015']\n",
      "['24', 'julio', 'año']\n",
      "['19', 'octubre', '2015']\n",
      "['17', 'noviembre', '2015']\n",
      "['17', 'noviembre', '2015']\n",
      "['30', 'octubre', '1997']\n",
      "['14', 'julio', '2014']\n",
      "['30', 'octubre', '1997']\n",
      "['30', 'octubre', '1997']\n",
      "['16', 'diciembre', '2015']\n"
     ]
    }
   ],
   "source": [
    "# Single dates\n",
    "single_date_regex = re.compile('de (%s) del?' % '|'.join(months))\n",
    "\n",
    "ctx_dates = []\n",
    "for para in paragraphs:\n",
    "    match = single_date_regex.search(para)\n",
    "    if match:\n",
    "        ctx = ctx_sentence(para, single_date_regex)\n",
    "        start = single_date_regex.search(ctx).start() - 3\n",
    "        end = single_date_regex.search(ctx).end() + 5\n",
    "        if start < 0:\n",
    "            start = 0\n",
    "        if end >= len(ctx):\n",
    "            end = len(ctx)\n",
    "        ctx_dates.append([ctx, date_parser(ctx[start : end])])"
   ]
  },
  {
   "cell_type": "code",
   "execution_count": 20,
   "metadata": {
    "collapsed": false
   },
   "outputs": [
    {
     "data": {
      "text/plain": [
       "[['El 30 de octubre de 1997, la Secretaría de Comunicaciones y Transportes (la “Secretaría”), otorgó en favor de Higinio Santiago Lastiri Quirós, un título de concesión para instalar, operar y explotar una red pública de telecomunicaciones para prestar el servicio de televisión restringida, con cobertura en Calpulalpan, Tlaxcala con una vigencia de 30 (treinta) años contados a partir de su otorgamiento (la “Concesión”)',\n",
       "  '30/10/1997'],\n",
       " ['Con oficio CFT/D06/CGST/CGTVAR/1122/2002 de fecha 8 de febrero de 2002, la entonces Dirección General de Televisión y Audio Restringidos, adscrita a la Coordinación General de Servicios de Telecomunicaciones de la extinta Comisión Federal de Telecomunicaciones (la “Comisión”), autorizó la ampliación de cobertura de la Concesión, hacia las localidades de Emiliano Zapata, Hidalgo y Nanacamilpa, Tlaxcala',\n",
       "  '8/02/2002'],\n",
       " ['-1123 de fecha 1 de marzo de 2004, la Secretaría autorizó la cesión de derechos de la Concesión a favor de TV de Calpulalpan, S',\n",
       "  '1/03/2004'],\n",
       " ['Con oficio CFT/D06/CGST/10856/2005 de fecha 1 de diciembre de 2005, la Coordinación General de Servicios de Telecomunicaciones de la Comisión, autorizó la ampliación de cobertura de la Concesión, hacia las localidades de Benito Juárez, Municipio de Benito Juárez',\n",
       "  '1/12/2005'],\n",
       " ['Con fecha 17 de julio de 2007, el representante legal de TV de Calpulalpan, S',\n",
       "  '17/07/2007'],\n",
       " ['Con fecha 11 de junio de 2013, se publicó en el Diario Oficial de la Federación el “Decreto por el que se reforman y adicionan diversas disposiciones de los artículos 6o',\n",
       "  '11/06/2013'],\n",
       " ['El 14 de julio de 2014, se publicó en el Diario Oficial de la Federación el “Decreto por el que se expiden la Ley Federal de Telecomunicaciones y Radiodifusión, y la Ley del Sistema Público de Radiodifusión del Estado Mexicano',\n",
       "  '14/07/2014'],\n",
       " ['El 4 de septiembre de 2014, se publicó en el Diario Oficial de la Federación el “Estatuto Orgánico del Instituto Federal de Telecomunicaciones” (el “Estatuto Orgánico”), mismo que entró en vigor el 26 de septiembre de 2014 y fue modificado el 17 de octubre del mismo año',\n",
       "  '4/09/2014'],\n",
       " ['Con fecha 24 de julio de 2015, se publicaron en el Diario Oficial de la Federación los “Lineamientos generales para el otorgamiento de concesiones a que se refiere el título cuarto de la Ley Federal de Telecomunicaciones y Radiodifusión” (los “Lineamientos”)',\n",
       "  '24/07/2015'],\n",
       " ['Con fecha 9 de octubre de 2015, TV de Calpulalpan, S', '9/10/2015'],\n",
       " ['Mediante oficio IFT/225/UC/DG-SUV/6031/2015 de fecha 17 de noviembre de 2015, la Dirección General de Supervisión, adscrita a la Unidad de Cumplimiento remitió la opinión correspondiente con respecto a la Solicitud de Transición',\n",
       "  '17/11/2015'],\n",
       " ['En ese sentido, en cumplimiento a lo dispuesto por el artículo Cuarto Transitorio del Decreto de Reforma Constitucional, el 24 de julio del año en curso se publicaron en el Diario Oficial de la Federación los Lineamientos, que tienen por objeto, entre otros,  especificar los términos y requisitos para que los actuales concesionarios puedan transitar al nuevo régimen de concesionamiento establecido en el Decreto de Reforma Constitucional y en la Ley y, de ser el caso, consolidar sus títulos en una sola concesión',\n",
       "  '24/07/1'],\n",
       " ['Por lo que hace al tercer requisito señalado en el artículo 27 de los Lineamientos que señala que para que proceda la solicitud para transitar a la Concesión Única para Uso Comercial, el solicitante deberá encontrarse en cumplimiento de las obligaciones establecidas en su título de concesión y las obligaciones derivadas de la legislación aplicable, la Unidad de Concesiones y Servicios, a través de la Dirección General de Concesiones de Telecomunicaciones, mediante oficio IFT/223/UCS/DG-CTEL/2675/2015 de fecha 19 de octubre de 2015, solicitó a la Dirección General de Supervisión adscrita a la Unidad de Cumplimiento informara si dicha concesionaria se encontraba en cumplimiento de las obligaciones y condiciones relacionadas con su título de concesión y demás ordenamientos aplicables',\n",
       "  '19/10/2015'],\n",
       " ['En respuesta a dicha petición, Dirección General de Supervisión adscrita a la Unidad de Cumplimiento a través del oficio IFT/225/UC/DG-SUV/6031/2015 de fecha 17 de noviembre de 2015, señaló entre otros aspectos lo siguiente:',\n",
       "  '17/11/2015'],\n",
       " [', se desprende que al 17 de noviembre de 2015, la concesionaria se encuentra al corriente en la presentación de las documentales derivadas de las obligaciones que tiene a su cargo y que le son aplicables conforme a su título de concesión y demás disposiciones legales, reglamentarias y administrativas aplicables',\n",
       "  '17/11/2015'],\n",
       " [', el título de concesión de red pública de telecomunicaciones el 30 de octubre de 1997, con una vigencia de 30 (treinta) años, la concesión única para uso comercial que se otorgue tendrá la vigencia antes señalada',\n",
       "  '30/10/1997'],\n",
       " ['y se reforman, adicionan y derogan diversas disposiciones en materia de telecomunicaciones y radiodifusión”, publicado en el Diario Oficial de la Federación el 14 de julio de 2014',\n",
       "  '14/07/2014'],\n",
       " [', la transición del título de concesión para instalar, operar y explotar una red pública de telecomunicaciones que le fue otorgado el 30 de octubre de 1997, con una vigencia de 30 (treinta) años, al nuevo régimen de Concesión Única para Uso Comercial establecido en la Constitución Política de los Estados Unidos Mexicanos y en la Ley Federal de Telecomunicaciones y Radiodifusión',\n",
       "  '30/10/1997'],\n",
       " [', con una vigencia de 30 (treinta) años contados a partir del 30 de octubre de 1997, con cobertura nacional y con el que podrá prestar cualquier servicio de telecomunicaciones y de radiodifusión que sea técnicamente factible',\n",
       "  '30/10/1997'],\n",
       " ['La presente Resolución fue aprobada por el Pleno del Instituto Federal de Telecomunicaciones en su XXIX Sesión Ordinaria celebrada el 16 de diciembre de 2015, por unanimidad de votos de los Comisionados presentes Gabriel Oswaldo Contreras Saldívar, Luis Fernando Borjón Figueroa, Ernesto Estrada González, Adriana Sofía Labardini Inzunza, María Elena Estavillo Flores, Mario Germán Fromow Rangel y Adolfo Cuevas Teja quien manifiesta voto concurrente',\n",
       "  '16/12/2015']]"
      ]
     },
     "execution_count": 20,
     "metadata": {},
     "output_type": "execute_result"
    }
   ],
   "source": [
    "ctx_dates"
   ]
  },
  {
   "cell_type": "code",
   "execution_count": 21,
   "metadata": {
    "collapsed": false
   },
   "outputs": [],
   "source": [
    "# Where\n",
    "where_regex = re.compile('en ((el|la|los|las) )?(([A-ZÁÉÍÓÚÑ][a-záéíóúñ]+|(de(l| la| los)?))[ ,\\.;])+')\n",
    "for cd in ctx_dates:\n",
    "    match = where_regex.search(cd[0])\n",
    "    if match:\n",
    "        place = re.sub('en ((el|la|los|las) )?', '', match.group())\n",
    "        cd.append(place)\n",
    "    else:\n",
    "        cd.append('')"
   ]
  },
  {
   "cell_type": "code",
   "execution_count": 22,
   "metadata": {
    "collapsed": false
   },
   "outputs": [
    {
     "data": {
      "text/plain": [
       "[['El 30 de octubre de 1997, la Secretaría de Comunicaciones y Transportes (la “Secretaría”), otorgó en favor de Higinio Santiago Lastiri Quirós, un título de concesión para instalar, operar y explotar una red pública de telecomunicaciones para prestar el servicio de televisión restringida, con cobertura en Calpulalpan, Tlaxcala con una vigencia de 30 (treinta) años contados a partir de su otorgamiento (la “Concesión”)',\n",
       "  '30/10/1997',\n",
       "  'Calpulalpan,'],\n",
       " ['Con oficio CFT/D06/CGST/CGTVAR/1122/2002 de fecha 8 de febrero de 2002, la entonces Dirección General de Televisión y Audio Restringidos, adscrita a la Coordinación General de Servicios de Telecomunicaciones de la extinta Comisión Federal de Telecomunicaciones (la “Comisión”), autorizó la ampliación de cobertura de la Concesión, hacia las localidades de Emiliano Zapata, Hidalgo y Nanacamilpa, Tlaxcala',\n",
       "  '8/02/2002',\n",
       "  ''],\n",
       " ['-1123 de fecha 1 de marzo de 2004, la Secretaría autorizó la cesión de derechos de la Concesión a favor de TV de Calpulalpan, S',\n",
       "  '1/03/2004',\n",
       "  ''],\n",
       " ['Con oficio CFT/D06/CGST/10856/2005 de fecha 1 de diciembre de 2005, la Coordinación General de Servicios de Telecomunicaciones de la Comisión, autorizó la ampliación de cobertura de la Concesión, hacia las localidades de Benito Juárez, Municipio de Benito Juárez',\n",
       "  '1/12/2005',\n",
       "  ''],\n",
       " ['Con fecha 17 de julio de 2007, el representante legal de TV de Calpulalpan, S',\n",
       "  '17/07/2007',\n",
       "  ''],\n",
       " ['Con fecha 11 de junio de 2013, se publicó en el Diario Oficial de la Federación el “Decreto por el que se reforman y adicionan diversas disposiciones de los artículos 6o',\n",
       "  '11/06/2013',\n",
       "  'Diario Oficial de la Federación '],\n",
       " ['El 14 de julio de 2014, se publicó en el Diario Oficial de la Federación el “Decreto por el que se expiden la Ley Federal de Telecomunicaciones y Radiodifusión, y la Ley del Sistema Público de Radiodifusión del Estado Mexicano',\n",
       "  '14/07/2014',\n",
       "  'Diario Oficial de la Federación '],\n",
       " ['El 4 de septiembre de 2014, se publicó en el Diario Oficial de la Federación el “Estatuto Orgánico del Instituto Federal de Telecomunicaciones” (el “Estatuto Orgánico”), mismo que entró en vigor el 26 de septiembre de 2014 y fue modificado el 17 de octubre del mismo año',\n",
       "  '4/09/2014',\n",
       "  'Diario Oficial de la Federación '],\n",
       " ['Con fecha 24 de julio de 2015, se publicaron en el Diario Oficial de la Federación los “Lineamientos generales para el otorgamiento de concesiones a que se refiere el título cuarto de la Ley Federal de Telecomunicaciones y Radiodifusión” (los “Lineamientos”)',\n",
       "  '24/07/2015',\n",
       "  'Diario Oficial de la Federación '],\n",
       " ['Con fecha 9 de octubre de 2015, TV de Calpulalpan, S', '9/10/2015', ''],\n",
       " ['Mediante oficio IFT/225/UC/DG-SUV/6031/2015 de fecha 17 de noviembre de 2015, la Dirección General de Supervisión, adscrita a la Unidad de Cumplimiento remitió la opinión correspondiente con respecto a la Solicitud de Transición',\n",
       "  '17/11/2015',\n",
       "  ''],\n",
       " ['En ese sentido, en cumplimiento a lo dispuesto por el artículo Cuarto Transitorio del Decreto de Reforma Constitucional, el 24 de julio del año en curso se publicaron en el Diario Oficial de la Federación los Lineamientos, que tienen por objeto, entre otros,  especificar los términos y requisitos para que los actuales concesionarios puedan transitar al nuevo régimen de concesionamiento establecido en el Decreto de Reforma Constitucional y en la Ley y, de ser el caso, consolidar sus títulos en una sola concesión',\n",
       "  '24/07/1',\n",
       "  'Diario Oficial de la Federación '],\n",
       " ['Por lo que hace al tercer requisito señalado en el artículo 27 de los Lineamientos que señala que para que proceda la solicitud para transitar a la Concesión Única para Uso Comercial, el solicitante deberá encontrarse en cumplimiento de las obligaciones establecidas en su título de concesión y las obligaciones derivadas de la legislación aplicable, la Unidad de Concesiones y Servicios, a través de la Dirección General de Concesiones de Telecomunicaciones, mediante oficio IFT/223/UCS/DG-CTEL/2675/2015 de fecha 19 de octubre de 2015, solicitó a la Dirección General de Supervisión adscrita a la Unidad de Cumplimiento informara si dicha concesionaria se encontraba en cumplimiento de las obligaciones y condiciones relacionadas con su título de concesión y demás ordenamientos aplicables',\n",
       "  '19/10/2015',\n",
       "  ''],\n",
       " ['En respuesta a dicha petición, Dirección General de Supervisión adscrita a la Unidad de Cumplimiento a través del oficio IFT/225/UC/DG-SUV/6031/2015 de fecha 17 de noviembre de 2015, señaló entre otros aspectos lo siguiente:',\n",
       "  '17/11/2015',\n",
       "  ''],\n",
       " [', se desprende que al 17 de noviembre de 2015, la concesionaria se encuentra al corriente en la presentación de las documentales derivadas de las obligaciones que tiene a su cargo y que le son aplicables conforme a su título de concesión y demás disposiciones legales, reglamentarias y administrativas aplicables',\n",
       "  '17/11/2015',\n",
       "  ''],\n",
       " [', el título de concesión de red pública de telecomunicaciones el 30 de octubre de 1997, con una vigencia de 30 (treinta) años, la concesión única para uso comercial que se otorgue tendrá la vigencia antes señalada',\n",
       "  '30/10/1997',\n",
       "  ''],\n",
       " ['y se reforman, adicionan y derogan diversas disposiciones en materia de telecomunicaciones y radiodifusión”, publicado en el Diario Oficial de la Federación el 14 de julio de 2014',\n",
       "  '14/07/2014',\n",
       "  'Diario Oficial de la Federación '],\n",
       " [', la transición del título de concesión para instalar, operar y explotar una red pública de telecomunicaciones que le fue otorgado el 30 de octubre de 1997, con una vigencia de 30 (treinta) años, al nuevo régimen de Concesión Única para Uso Comercial establecido en la Constitución Política de los Estados Unidos Mexicanos y en la Ley Federal de Telecomunicaciones y Radiodifusión',\n",
       "  '30/10/1997',\n",
       "  'de Concesión Única '],\n",
       " [', con una vigencia de 30 (treinta) años contados a partir del 30 de octubre de 1997, con cobertura nacional y con el que podrá prestar cualquier servicio de telecomunicaciones y de radiodifusión que sea técnicamente factible',\n",
       "  '30/10/1997',\n",
       "  ''],\n",
       " ['La presente Resolución fue aprobada por el Pleno del Instituto Federal de Telecomunicaciones en su XXIX Sesión Ordinaria celebrada el 16 de diciembre de 2015, por unanimidad de votos de los Comisionados presentes Gabriel Oswaldo Contreras Saldívar, Luis Fernando Borjón Figueroa, Ernesto Estrada González, Adriana Sofía Labardini Inzunza, María Elena Estavillo Flores, Mario Germán Fromow Rangel y Adolfo Cuevas Teja quien manifiesta voto concurrente',\n",
       "  '16/12/2015',\n",
       "  '']]"
      ]
     },
     "execution_count": 22,
     "metadata": {},
     "output_type": "execute_result"
    }
   ],
   "source": [
    "ctx_dates"
   ]
  },
  {
   "cell_type": "code",
   "execution_count": 23,
   "metadata": {
    "collapsed": true
   },
   "outputs": [],
   "source": [
    "# In order to\n",
    "to_regex = re.compile('((((para )|(a fin de )|(con el objeto de ))que)|(con la finalidad de)|(para [a-záéíóúñ]+(ar|er|ir))).+[ \\.;]')\n",
    "for cd in ctx_dates:\n",
    "    match = to_regex.search(cd[0])\n",
    "    if match:\n",
    "        cd.append(match.group())\n",
    "    else:\n",
    "        cd.append('')"
   ]
  },
  {
   "cell_type": "code",
   "execution_count": 24,
   "metadata": {
    "collapsed": false
   },
   "outputs": [
    {
     "data": {
      "text/plain": [
       "[['El 30 de octubre de 1997, la Secretaría de Comunicaciones y Transportes (la “Secretaría”), otorgó en favor de Higinio Santiago Lastiri Quirós, un título de concesión para instalar, operar y explotar una red pública de telecomunicaciones para prestar el servicio de televisión restringida, con cobertura en Calpulalpan, Tlaxcala con una vigencia de 30 (treinta) años contados a partir de su otorgamiento (la “Concesión”)',\n",
       "  '30/10/1997',\n",
       "  'Calpulalpan,',\n",
       "  'para instalar, operar y explotar una red pública de telecomunicaciones para prestar el servicio de televisión restringida, con cobertura en Calpulalpan, Tlaxcala con una vigencia de 30 (treinta) años contados a partir de su otorgamiento (la '],\n",
       " ['Con oficio CFT/D06/CGST/CGTVAR/1122/2002 de fecha 8 de febrero de 2002, la entonces Dirección General de Televisión y Audio Restringidos, adscrita a la Coordinación General de Servicios de Telecomunicaciones de la extinta Comisión Federal de Telecomunicaciones (la “Comisión”), autorizó la ampliación de cobertura de la Concesión, hacia las localidades de Emiliano Zapata, Hidalgo y Nanacamilpa, Tlaxcala',\n",
       "  '8/02/2002',\n",
       "  '',\n",
       "  ''],\n",
       " ['-1123 de fecha 1 de marzo de 2004, la Secretaría autorizó la cesión de derechos de la Concesión a favor de TV de Calpulalpan, S',\n",
       "  '1/03/2004',\n",
       "  '',\n",
       "  ''],\n",
       " ['Con oficio CFT/D06/CGST/10856/2005 de fecha 1 de diciembre de 2005, la Coordinación General de Servicios de Telecomunicaciones de la Comisión, autorizó la ampliación de cobertura de la Concesión, hacia las localidades de Benito Juárez, Municipio de Benito Juárez',\n",
       "  '1/12/2005',\n",
       "  '',\n",
       "  ''],\n",
       " ['Con fecha 17 de julio de 2007, el representante legal de TV de Calpulalpan, S',\n",
       "  '17/07/2007',\n",
       "  '',\n",
       "  ''],\n",
       " ['Con fecha 11 de junio de 2013, se publicó en el Diario Oficial de la Federación el “Decreto por el que se reforman y adicionan diversas disposiciones de los artículos 6o',\n",
       "  '11/06/2013',\n",
       "  'Diario Oficial de la Federación ',\n",
       "  ''],\n",
       " ['El 14 de julio de 2014, se publicó en el Diario Oficial de la Federación el “Decreto por el que se expiden la Ley Federal de Telecomunicaciones y Radiodifusión, y la Ley del Sistema Público de Radiodifusión del Estado Mexicano',\n",
       "  '14/07/2014',\n",
       "  'Diario Oficial de la Federación ',\n",
       "  ''],\n",
       " ['El 4 de septiembre de 2014, se publicó en el Diario Oficial de la Federación el “Estatuto Orgánico del Instituto Federal de Telecomunicaciones” (el “Estatuto Orgánico”), mismo que entró en vigor el 26 de septiembre de 2014 y fue modificado el 17 de octubre del mismo año',\n",
       "  '4/09/2014',\n",
       "  'Diario Oficial de la Federación ',\n",
       "  ''],\n",
       " ['Con fecha 24 de julio de 2015, se publicaron en el Diario Oficial de la Federación los “Lineamientos generales para el otorgamiento de concesiones a que se refiere el título cuarto de la Ley Federal de Telecomunicaciones y Radiodifusión” (los “Lineamientos”)',\n",
       "  '24/07/2015',\n",
       "  'Diario Oficial de la Federación ',\n",
       "  ''],\n",
       " ['Con fecha 9 de octubre de 2015, TV de Calpulalpan, S', '9/10/2015', '', ''],\n",
       " ['Mediante oficio IFT/225/UC/DG-SUV/6031/2015 de fecha 17 de noviembre de 2015, la Dirección General de Supervisión, adscrita a la Unidad de Cumplimiento remitió la opinión correspondiente con respecto a la Solicitud de Transición',\n",
       "  '17/11/2015',\n",
       "  '',\n",
       "  ''],\n",
       " ['En ese sentido, en cumplimiento a lo dispuesto por el artículo Cuarto Transitorio del Decreto de Reforma Constitucional, el 24 de julio del año en curso se publicaron en el Diario Oficial de la Federación los Lineamientos, que tienen por objeto, entre otros,  especificar los términos y requisitos para que los actuales concesionarios puedan transitar al nuevo régimen de concesionamiento establecido en el Decreto de Reforma Constitucional y en la Ley y, de ser el caso, consolidar sus títulos en una sola concesión',\n",
       "  '24/07/1',\n",
       "  'Diario Oficial de la Federación ',\n",
       "  'para que los actuales concesionarios puedan transitar al nuevo régimen de concesionamiento establecido en el Decreto de Reforma Constitucional y en la Ley y, de ser el caso, consolidar sus títulos en una sola '],\n",
       " ['Por lo que hace al tercer requisito señalado en el artículo 27 de los Lineamientos que señala que para que proceda la solicitud para transitar a la Concesión Única para Uso Comercial, el solicitante deberá encontrarse en cumplimiento de las obligaciones establecidas en su título de concesión y las obligaciones derivadas de la legislación aplicable, la Unidad de Concesiones y Servicios, a través de la Dirección General de Concesiones de Telecomunicaciones, mediante oficio IFT/223/UCS/DG-CTEL/2675/2015 de fecha 19 de octubre de 2015, solicitó a la Dirección General de Supervisión adscrita a la Unidad de Cumplimiento informara si dicha concesionaria se encontraba en cumplimiento de las obligaciones y condiciones relacionadas con su título de concesión y demás ordenamientos aplicables',\n",
       "  '19/10/2015',\n",
       "  '',\n",
       "  'para que proceda la solicitud para transitar a la Concesión Única para Uso Comercial, el solicitante deberá encontrarse en cumplimiento de las obligaciones establecidas en su título de concesión y las obligaciones derivadas de la legislación aplicable, la Unidad de Concesiones y Servicios, a través de la Dirección General de Concesiones de Telecomunicaciones, mediante oficio IFT/223/UCS/DG-CTEL/2675/2015 de fecha 19 de octubre de 2015, solicitó a la Dirección General de Supervisión adscrita a la Unidad de Cumplimiento informara si dicha concesionaria se encontraba en cumplimiento de las obligaciones y condiciones relacionadas con su título de concesión y demás ordenamientos '],\n",
       " ['En respuesta a dicha petición, Dirección General de Supervisión adscrita a la Unidad de Cumplimiento a través del oficio IFT/225/UC/DG-SUV/6031/2015 de fecha 17 de noviembre de 2015, señaló entre otros aspectos lo siguiente:',\n",
       "  '17/11/2015',\n",
       "  '',\n",
       "  ''],\n",
       " [', se desprende que al 17 de noviembre de 2015, la concesionaria se encuentra al corriente en la presentación de las documentales derivadas de las obligaciones que tiene a su cargo y que le son aplicables conforme a su título de concesión y demás disposiciones legales, reglamentarias y administrativas aplicables',\n",
       "  '17/11/2015',\n",
       "  '',\n",
       "  ''],\n",
       " [', el título de concesión de red pública de telecomunicaciones el 30 de octubre de 1997, con una vigencia de 30 (treinta) años, la concesión única para uso comercial que se otorgue tendrá la vigencia antes señalada',\n",
       "  '30/10/1997',\n",
       "  '',\n",
       "  ''],\n",
       " ['y se reforman, adicionan y derogan diversas disposiciones en materia de telecomunicaciones y radiodifusión”, publicado en el Diario Oficial de la Federación el 14 de julio de 2014',\n",
       "  '14/07/2014',\n",
       "  'Diario Oficial de la Federación ',\n",
       "  ''],\n",
       " [', la transición del título de concesión para instalar, operar y explotar una red pública de telecomunicaciones que le fue otorgado el 30 de octubre de 1997, con una vigencia de 30 (treinta) años, al nuevo régimen de Concesión Única para Uso Comercial establecido en la Constitución Política de los Estados Unidos Mexicanos y en la Ley Federal de Telecomunicaciones y Radiodifusión',\n",
       "  '30/10/1997',\n",
       "  'de Concesión Única ',\n",
       "  'para instalar, operar y explotar una red pública de telecomunicaciones que le fue otorgado el 30 de octubre de 1997, con una vigencia de 30 (treinta) años, al nuevo régimen de Concesión Única para Uso Comercial establecido en la Constitución Política de los Estados Unidos Mexicanos y en la Ley Federal de Telecomunicaciones y '],\n",
       " [', con una vigencia de 30 (treinta) años contados a partir del 30 de octubre de 1997, con cobertura nacional y con el que podrá prestar cualquier servicio de telecomunicaciones y de radiodifusión que sea técnicamente factible',\n",
       "  '30/10/1997',\n",
       "  '',\n",
       "  ''],\n",
       " ['La presente Resolución fue aprobada por el Pleno del Instituto Federal de Telecomunicaciones en su XXIX Sesión Ordinaria celebrada el 16 de diciembre de 2015, por unanimidad de votos de los Comisionados presentes Gabriel Oswaldo Contreras Saldívar, Luis Fernando Borjón Figueroa, Ernesto Estrada González, Adriana Sofía Labardini Inzunza, María Elena Estavillo Flores, Mario Germán Fromow Rangel y Adolfo Cuevas Teja quien manifiesta voto concurrente',\n",
       "  '16/12/2015',\n",
       "  '',\n",
       "  '']]"
      ]
     },
     "execution_count": 24,
     "metadata": {},
     "output_type": "execute_result"
    }
   ],
   "source": [
    "ctx_dates"
   ]
  },
  {
   "cell_type": "code",
   "execution_count": 25,
   "metadata": {
    "collapsed": true
   },
   "outputs": [],
   "source": [
    "# to whom\n",
    "whom_regex = re.compile('\\\\b(al?|(en favor de( la|l| los| las)?)) [a-záéíóú]* ?(([A-ZÁÉÍÓÚÑ][A-ZÁÉÍÓÚa-záéíóúñ]*|(de(l| los| la| las)?))[ ,\\.;])*')\n",
    "for cd in ctx_dates:\n",
    "    match = whom_regex.search(cd[0])\n",
    "    if match:\n",
    "        cd.append(match.group())\n",
    "    else:\n",
    "        cd.append('')"
   ]
  },
  {
   "cell_type": "code",
   "execution_count": 26,
   "metadata": {
    "collapsed": false
   },
   "outputs": [
    {
     "data": {
      "text/plain": [
       "[['El 30 de octubre de 1997, la Secretaría de Comunicaciones y Transportes (la “Secretaría”), otorgó en favor de Higinio Santiago Lastiri Quirós, un título de concesión para instalar, operar y explotar una red pública de telecomunicaciones para prestar el servicio de televisión restringida, con cobertura en Calpulalpan, Tlaxcala con una vigencia de 30 (treinta) años contados a partir de su otorgamiento (la “Concesión”)',\n",
       "  '30/10/1997',\n",
       "  'Calpulalpan,',\n",
       "  'para instalar, operar y explotar una red pública de telecomunicaciones para prestar el servicio de televisión restringida, con cobertura en Calpulalpan, Tlaxcala con una vigencia de 30 (treinta) años contados a partir de su otorgamiento (la ',\n",
       "  'en favor de Higinio Santiago Lastiri Quirós,'],\n",
       " ['Con oficio CFT/D06/CGST/CGTVAR/1122/2002 de fecha 8 de febrero de 2002, la entonces Dirección General de Televisión y Audio Restringidos, adscrita a la Coordinación General de Servicios de Telecomunicaciones de la extinta Comisión Federal de Telecomunicaciones (la “Comisión”), autorizó la ampliación de cobertura de la Concesión, hacia las localidades de Emiliano Zapata, Hidalgo y Nanacamilpa, Tlaxcala',\n",
       "  '8/02/2002',\n",
       "  '',\n",
       "  '',\n",
       "  'a la Coordinación General de Servicios de Telecomunicaciones de la '],\n",
       " ['-1123 de fecha 1 de marzo de 2004, la Secretaría autorizó la cesión de derechos de la Concesión a favor de TV de Calpulalpan, S',\n",
       "  '1/03/2004',\n",
       "  '',\n",
       "  '',\n",
       "  'a favor de TV de Calpulalpan,'],\n",
       " ['Con oficio CFT/D06/CGST/10856/2005 de fecha 1 de diciembre de 2005, la Coordinación General de Servicios de Telecomunicaciones de la Comisión, autorizó la ampliación de cobertura de la Concesión, hacia las localidades de Benito Juárez, Municipio de Benito Juárez',\n",
       "  '1/12/2005',\n",
       "  '',\n",
       "  '',\n",
       "  ''],\n",
       " ['Con fecha 17 de julio de 2007, el representante legal de TV de Calpulalpan, S',\n",
       "  '17/07/2007',\n",
       "  '',\n",
       "  '',\n",
       "  ''],\n",
       " ['Con fecha 11 de junio de 2013, se publicó en el Diario Oficial de la Federación el “Decreto por el que se reforman y adicionan diversas disposiciones de los artículos 6o',\n",
       "  '11/06/2013',\n",
       "  'Diario Oficial de la Federación ',\n",
       "  '',\n",
       "  ''],\n",
       " ['El 14 de julio de 2014, se publicó en el Diario Oficial de la Federación el “Decreto por el que se expiden la Ley Federal de Telecomunicaciones y Radiodifusión, y la Ley del Sistema Público de Radiodifusión del Estado Mexicano',\n",
       "  '14/07/2014',\n",
       "  'Diario Oficial de la Federación ',\n",
       "  '',\n",
       "  ''],\n",
       " ['El 4 de septiembre de 2014, se publicó en el Diario Oficial de la Federación el “Estatuto Orgánico del Instituto Federal de Telecomunicaciones” (el “Estatuto Orgánico”), mismo que entró en vigor el 26 de septiembre de 2014 y fue modificado el 17 de octubre del mismo año',\n",
       "  '4/09/2014',\n",
       "  'Diario Oficial de la Federación ',\n",
       "  '',\n",
       "  ''],\n",
       " ['Con fecha 24 de julio de 2015, se publicaron en el Diario Oficial de la Federación los “Lineamientos generales para el otorgamiento de concesiones a que se refiere el título cuarto de la Ley Federal de Telecomunicaciones y Radiodifusión” (los “Lineamientos”)',\n",
       "  '24/07/2015',\n",
       "  'Diario Oficial de la Federación ',\n",
       "  '',\n",
       "  'a que '],\n",
       " ['Con fecha 9 de octubre de 2015, TV de Calpulalpan, S',\n",
       "  '9/10/2015',\n",
       "  '',\n",
       "  '',\n",
       "  ''],\n",
       " ['Mediante oficio IFT/225/UC/DG-SUV/6031/2015 de fecha 17 de noviembre de 2015, la Dirección General de Supervisión, adscrita a la Unidad de Cumplimiento remitió la opinión correspondiente con respecto a la Solicitud de Transición',\n",
       "  '17/11/2015',\n",
       "  '',\n",
       "  '',\n",
       "  'a la Unidad de Cumplimiento '],\n",
       " ['En ese sentido, en cumplimiento a lo dispuesto por el artículo Cuarto Transitorio del Decreto de Reforma Constitucional, el 24 de julio del año en curso se publicaron en el Diario Oficial de la Federación los Lineamientos, que tienen por objeto, entre otros,  especificar los términos y requisitos para que los actuales concesionarios puedan transitar al nuevo régimen de concesionamiento establecido en el Decreto de Reforma Constitucional y en la Ley y, de ser el caso, consolidar sus títulos en una sola concesión',\n",
       "  '24/07/1',\n",
       "  'Diario Oficial de la Federación ',\n",
       "  'para que los actuales concesionarios puedan transitar al nuevo régimen de concesionamiento establecido en el Decreto de Reforma Constitucional y en la Ley y, de ser el caso, consolidar sus títulos en una sola ',\n",
       "  'a lo '],\n",
       " ['Por lo que hace al tercer requisito señalado en el artículo 27 de los Lineamientos que señala que para que proceda la solicitud para transitar a la Concesión Única para Uso Comercial, el solicitante deberá encontrarse en cumplimiento de las obligaciones establecidas en su título de concesión y las obligaciones derivadas de la legislación aplicable, la Unidad de Concesiones y Servicios, a través de la Dirección General de Concesiones de Telecomunicaciones, mediante oficio IFT/223/UCS/DG-CTEL/2675/2015 de fecha 19 de octubre de 2015, solicitó a la Dirección General de Supervisión adscrita a la Unidad de Cumplimiento informara si dicha concesionaria se encontraba en cumplimiento de las obligaciones y condiciones relacionadas con su título de concesión y demás ordenamientos aplicables',\n",
       "  '19/10/2015',\n",
       "  '',\n",
       "  'para que proceda la solicitud para transitar a la Concesión Única para Uso Comercial, el solicitante deberá encontrarse en cumplimiento de las obligaciones establecidas en su título de concesión y las obligaciones derivadas de la legislación aplicable, la Unidad de Concesiones y Servicios, a través de la Dirección General de Concesiones de Telecomunicaciones, mediante oficio IFT/223/UCS/DG-CTEL/2675/2015 de fecha 19 de octubre de 2015, solicitó a la Dirección General de Supervisión adscrita a la Unidad de Cumplimiento informara si dicha concesionaria se encontraba en cumplimiento de las obligaciones y condiciones relacionadas con su título de concesión y demás ordenamientos ',\n",
       "  'al tercer '],\n",
       " ['En respuesta a dicha petición, Dirección General de Supervisión adscrita a la Unidad de Cumplimiento a través del oficio IFT/225/UC/DG-SUV/6031/2015 de fecha 17 de noviembre de 2015, señaló entre otros aspectos lo siguiente:',\n",
       "  '17/11/2015',\n",
       "  '',\n",
       "  '',\n",
       "  'a dicha '],\n",
       " [', se desprende que al 17 de noviembre de 2015, la concesionaria se encuentra al corriente en la presentación de las documentales derivadas de las obligaciones que tiene a su cargo y que le son aplicables conforme a su título de concesión y demás disposiciones legales, reglamentarias y administrativas aplicables',\n",
       "  '17/11/2015',\n",
       "  '',\n",
       "  '',\n",
       "  'al '],\n",
       " [', el título de concesión de red pública de telecomunicaciones el 30 de octubre de 1997, con una vigencia de 30 (treinta) años, la concesión única para uso comercial que se otorgue tendrá la vigencia antes señalada',\n",
       "  '30/10/1997',\n",
       "  '',\n",
       "  '',\n",
       "  ''],\n",
       " ['y se reforman, adicionan y derogan diversas disposiciones en materia de telecomunicaciones y radiodifusión”, publicado en el Diario Oficial de la Federación el 14 de julio de 2014',\n",
       "  '14/07/2014',\n",
       "  'Diario Oficial de la Federación ',\n",
       "  '',\n",
       "  ''],\n",
       " [', la transición del título de concesión para instalar, operar y explotar una red pública de telecomunicaciones que le fue otorgado el 30 de octubre de 1997, con una vigencia de 30 (treinta) años, al nuevo régimen de Concesión Única para Uso Comercial establecido en la Constitución Política de los Estados Unidos Mexicanos y en la Ley Federal de Telecomunicaciones y Radiodifusión',\n",
       "  '30/10/1997',\n",
       "  'de Concesión Única ',\n",
       "  'para instalar, operar y explotar una red pública de telecomunicaciones que le fue otorgado el 30 de octubre de 1997, con una vigencia de 30 (treinta) años, al nuevo régimen de Concesión Única para Uso Comercial establecido en la Constitución Política de los Estados Unidos Mexicanos y en la Ley Federal de Telecomunicaciones y ',\n",
       "  'al nuevo '],\n",
       " [', con una vigencia de 30 (treinta) años contados a partir del 30 de octubre de 1997, con cobertura nacional y con el que podrá prestar cualquier servicio de telecomunicaciones y de radiodifusión que sea técnicamente factible',\n",
       "  '30/10/1997',\n",
       "  '',\n",
       "  '',\n",
       "  'a partir del '],\n",
       " ['La presente Resolución fue aprobada por el Pleno del Instituto Federal de Telecomunicaciones en su XXIX Sesión Ordinaria celebrada el 16 de diciembre de 2015, por unanimidad de votos de los Comisionados presentes Gabriel Oswaldo Contreras Saldívar, Luis Fernando Borjón Figueroa, Ernesto Estrada González, Adriana Sofía Labardini Inzunza, María Elena Estavillo Flores, Mario Germán Fromow Rangel y Adolfo Cuevas Teja quien manifiesta voto concurrente',\n",
       "  '16/12/2015',\n",
       "  '',\n",
       "  '',\n",
       "  '']]"
      ]
     },
     "execution_count": 26,
     "metadata": {},
     "output_type": "execute_result"
    }
   ],
   "source": [
    "ctx_dates"
   ]
  },
  {
   "cell_type": "code",
   "execution_count": 34,
   "metadata": {
    "collapsed": true
   },
   "outputs": [],
   "source": [
    "# CSV serializer\n",
    "suc_header = ['CONTEXTO', 'FECHAS', 'LEMA', 'QUIÉN', 'QUÉ', 'DÓNDE', 'A QUIÉN', 'PARA QUÉ']\n",
    "with open('sucesos.csv', 'w') as f:\n",
    "    writer = csv.writer(f)\n",
    "    writer.writerow(suc_header)\n",
    "    for data in ctx_dates:\n",
    "        writer.writerow([data[0], data[1], '', '', '', data[2], data[4], data[3]])"
   ]
  },
  {
   "cell_type": "markdown",
   "metadata": {},
   "source": [
    "## Leyes"
   ]
  },
  {
   "cell_type": "code",
   "execution_count": 27,
   "metadata": {
    "collapsed": true
   },
   "outputs": [],
   "source": [
    "ctx_regex3 = re.compile('((el artículo)|(los artículos)).*[\\.;]')"
   ]
  },
  {
   "cell_type": "code",
   "execution_count": 28,
   "metadata": {
    "collapsed": false
   },
   "outputs": [],
   "source": [
    "# Contexts\n",
    "contexts3 = []\n",
    "for para in paragraphs:\n",
    "    for match in ctx_regex3.finditer(para):\n",
    "        splitted = match.group().split()\n",
    "        ctx = ''\n",
    "        for word in splitted:\n",
    "            ctx += '{} '.format(word)\n",
    "            if '.' in word or ';' in word:\n",
    "                if not re.match('[0-9]+o[\\.;]', word):\n",
    "                    contexts3.append(ctx.strip())\n",
    "                    break"
   ]
  },
  {
   "cell_type": "code",
   "execution_count": 29,
   "metadata": {
    "collapsed": false
   },
   "outputs": [
    {
     "data": {
      "text/plain": [
       "['los artículos 6o., 7o., 27, 28, 73, 78, 94 y 105 de la Constitución Política de los Estados Unidos Mexicanos, en materia de telecomunicaciones” (el “Decreto de Reforma Constitucional”), mediante el cual se creó el Instituto Federal de Telecomunicaciones (el “Instituto”), como un órgano autónomo que tiene por objeto el desarrollo eficiente de la radiodifusión y las telecomunicaciones.',\n",
       " 'el artículo 28 párrafos décimo quinto, décimo sexto y décimo séptimo de la Constitución Política de los Estados Unidos Mexicanos (la “Constitución”), el Instituto es un órgano autónomo, con personalidad jurídica y patrimonio propios, que tiene por objeto el desarrollo eficiente de la radiodifusión y las telecomunicaciones, conforme a lo dispuesto por la propia Constitución y en los términos que fijen las leyes.',\n",
       " 'los artículos 6o. y 7o. de la Constitución.',\n",
       " 'el artículo Octavo Transitorio del Decreto de Ley señala que los actuales concesionarios podrán obtener autorización del Instituto para, entre otros, transitar a la concesión única, siempre que se encuentren en cumplimiento de las obligaciones previstas en las leyes y en sus títulos de concesión.',\n",
       " 'los artículos 15 fracción IV, 16 y 17 fracción I de la Ley Federal de Telecomunicaciones y Radiodifusión (la “Ley”), para resolver sobre el otorgamiento, prórrogas, modificación o terminación de concesiones en materia de radiodifusión y telecomunicaciones.',\n",
       " 'el artículo 6 fracción I del Estatuto Orgánico, establece que corresponde al Pleno, además de las atribuciones establecidas como indelegables en la Ley, la atribución de regular, promover y supervisar el uso, aprovechamiento y explotación eficiente del espectro radioeléctrico, los recursos orbitales, los servicios satelitales, las redes de telecomunicaciones y la prestación de los servicios de radiodifusión y telecomunicaciones.',\n",
       " 'los artículos 32 y 33 fracción VI del Estatuto Orgánico, corresponde a la Unidad de Concesiones y Servicios, a través de la Dirección General de Concesiones de Telecomunicaciones, tramitar y evaluar, entre otras, las solicitudes de autorización para transitar a la concesión única en los casos de concesiones de telecomunicaciones, incluyendo, en su caso, los términos y condiciones a los que deberán sujetarse los concesionarios, para someterlas a consideración del Pleno.',\n",
       " 'el artículo Cuarto Transitorio del Decreto de Reforma Constitucional señala que con la concesión única los concesionarios pueden prestar todo tipo de servicios a través de sus redes.',\n",
       " 'el artículo Cuarto Transitorio del Decreto de Reforma Constitucional, el 24 de julio del año en curso se publicaron en el Diario Oficial de la Federación los Lineamientos, que tienen por objeto, entre otros, especificar los términos y requisitos para que los actuales concesionarios puedan transitar al nuevo régimen de concesionamiento establecido en el Decreto de Reforma Constitucional y en la Ley y, de ser el caso, consolidar sus títulos en una sola concesión.',\n",
       " 'el artículo 67 fracción I, con la cual se pretende prestar todo tipo de servicios públicos de telecomunicaciones y radiodifusión con fines de lucro, y en cualquier parte del territorio nacional.',\n",
       " 'el artículo 24 de los Lineamientos, relativo a que TV de Calpulalpan, S.A.',\n",
       " 'el artículo 97 de la Ley Federal de Derechos, establecido en el penúltimo párrafo del mismo artículo de los Lineamientos.',\n",
       " 'el artículo 27 de los Lineamientos que señala que para que proceda la solicitud para transitar a la Concesión Única para Uso Comercial, el solicitante deberá encontrarse en cumplimiento de las obligaciones establecidas en su título de concesión y las obligaciones derivadas de la legislación aplicable, la Unidad de Concesiones y Servicios, a través de la Dirección General de Concesiones de Telecomunicaciones, mediante oficio IFT/223/UCS/DG-CTEL/2675/2015 de fecha 19 de octubre de 2015, solicitó a la Dirección General de Supervisión adscrita a la Unidad de Cumplimiento informara si dicha concesionaria se encontraba en cumplimiento de las obligaciones y condiciones relacionadas con su título de concesión y demás ordenamientos aplicables.',\n",
       " 'el artículo 25 de los Lineamientos.',\n",
       " 'los artículos 28 párrafos décimo quinto, décimo sexto y décimo séptimo de la Constitución Política de los Estados Unidos Mexicanos;',\n",
       " 'el artículo 14 fracción X del Estatuto Orgánico, suscribirá el título de concesión única a que se refiere el Resolutivo Segundo de la presente Resolución.',\n",
       " 'el artículo 112 de la Ley Federal de Telecomunicaciones y Radiodifusión, en un plazo no mayor de noventa días hábiles contados a partir de la fecha del otorgamiento de la concesión a que se refiere la presente Resolución, deberá presentar ante el Instituto Federal de Telecomunicaciones, copia certificada del instrumento donde conste que se llevaron a cabo las modificaciones correspondientes a sus estatutos sociales.',\n",
       " 'el artículo 28 de la Constitución Política de los Estados Unidos Mexicanos;']"
      ]
     },
     "execution_count": 29,
     "metadata": {},
     "output_type": "execute_result"
    }
   ],
   "source": [
    "contexts3"
   ]
  },
  {
   "cell_type": "code",
   "execution_count": 30,
   "metadata": {
    "collapsed": true
   },
   "outputs": [],
   "source": [
    "# Laws\n",
    "def get_law(sentence):\n",
    "    law_regex = re.compile('(de(l| la)) (([A-ZÁÉÍÓÚÑ][a-záéíóúñ]+|(de(l| la| los)))[ ,\\.;])+')\n",
    "    match = law_regex.search(sentence)\n",
    "    if match:\n",
    "        return re.sub('(de(l| la))', '', match.group(), 1).strip()\n",
    "    else:\n",
    "        return ''"
   ]
  },
  {
   "cell_type": "code",
   "execution_count": 31,
   "metadata": {
    "collapsed": false
   },
   "outputs": [],
   "source": [
    "# Articles\n",
    "arab_num_regex = re.compile('[1-9][0-9]{,2}((o\\.)|(-[A-Z]))?')\n",
    "roman_num_regex = re.compile('\\\\b[IVLX]+\\\\b')\n",
    "article_stack = []\n",
    "law_data = {}\n",
    "frac_mode = False\n",
    "for para in paragraphs:\n",
    "    for word in para.split():\n",
    "        match_arab = arab_num_regex.search(word)\n",
    "        if match_arab:\n",
    "            if frac_mode and article_stack:\n",
    "                article_stack.pop()\n",
    "            frac_mode = False\n",
    "            number = match_arab.group()\n",
    "            try:\n",
    "                law_data[number]\n",
    "            except KeyError:\n",
    "                reg = re.compile(number)\n",
    "                ctx_sent = ctx_sentence(para, reg)\n",
    "                law_data[number] = ([], ctx_sent,\n",
    "                                    get_law(ctx_sent))\n",
    "            article_stack.append(number)\n",
    "        match_roman = roman_num_regex.search(word)\n",
    "        if match_roman:\n",
    "            frac_mode = True\n",
    "            number = match_roman.group()\n",
    "            if article_stack:\n",
    "                law_data[article_stack[-1]][0].append(number)"
   ]
  },
  {
   "cell_type": "code",
   "execution_count": 32,
   "metadata": {
    "collapsed": false
   },
   "outputs": [
    {
     "data": {
      "text/plain": [
       "{'1': ([], 'Con oficio 112', ''),\n",
       " '105': ([],\n",
       "  ', 27, 28, 73, 78, 94 y 105 de la Constitución Política de los Estados Unidos Mexicanos, en materia de telecomunicaciones” (el “Decreto de Reforma Constitucional”), mediante el cual se creó el Instituto Federal de Telecomunicaciones (el “Instituto”), como un órgano autónomo que tiene por objeto el desarrollo eficiente de la radiodifusión y las telecomunicaciones',\n",
       "  'Constitución Política de los Estados Unidos Mexicanos,'),\n",
       " '11': ([],\n",
       "  'Con fecha 11 de junio de 2013, se publicó en el Diario Oficial de la Federación el “Decreto por el que se reforman y adicionan diversas disposiciones de los artículos 6o',\n",
       "  'Federación'),\n",
       " '112': (['XXIX'], 'Con oficio 112', ''),\n",
       " '12': ([],\n",
       "  'así como en los artículos 1, 7, 8 y 12 del Estatuto Orgánico del Instituto Federal de Telecomunicaciones, mediante Acuerdo P/IFT/161215/601',\n",
       "  'Estatuto Orgánico del Instituto Federal'),\n",
       " '13': ([],\n",
       "  'y se reforman, adicionan y derogan diversas disposiciones en materia de telecomunicaciones y radiodifusión” (el “Decreto de Ley”), mismo que entró en vigor el 13 de agosto de 2014',\n",
       "  ''),\n",
       " '14': (['X', 'X', 'V'],\n",
       "  'El 14 de julio de 2014, se publicó en el Diario Oficial de la Federación el “Decreto por el que se expiden la Ley Federal de Telecomunicaciones y Radiodifusión, y la Ley del Sistema Público de Radiodifusión del Estado Mexicano',\n",
       "  'Federación'),\n",
       " '15': (['IV', 'IV'],\n",
       "  'Asimismo, el Pleno del Instituto está facultado, conforme a lo establecido por los artículos 15 fracción IV, 16 y 17 fracción I de la Ley Federal de Telecomunicaciones y Radiodifusión (la “Ley”), para resolver sobre el otorgamiento, prórrogas, modificación o terminación de concesiones en materia de radiodifusión y telecomunicaciones',\n",
       "  'Instituto'),\n",
       " '16': ([],\n",
       "  'Asimismo, el Pleno del Instituto está facultado, conforme a lo establecido por los artículos 15 fracción IV, 16 y 17 fracción I de la Ley Federal de Telecomunicaciones y Radiodifusión (la “Ley”), para resolver sobre el otorgamiento, prórrogas, modificación o terminación de concesiones en materia de radiodifusión y telecomunicaciones',\n",
       "  'Instituto'),\n",
       " '161': ([],\n",
       "  'así como en los artículos 1, 7, 8 y 12 del Estatuto Orgánico del Instituto Federal de Telecomunicaciones, mediante Acuerdo P/IFT/161215/601',\n",
       "  'Estatuto Orgánico del Instituto Federal'),\n",
       " '17': (['I', 'I'],\n",
       "  'Con fecha 17 de julio de 2007, el representante legal de TV de Calpulalpan, S',\n",
       "  ''),\n",
       " '19': ([],\n",
       "  'Por lo que hace al tercer requisito señalado en el artículo 27 de los Lineamientos que señala que para que proceda la solicitud para transitar a la Concesión Única para Uso Comercial, el solicitante deberá encontrarse en cumplimiento de las obligaciones establecidas en su título de concesión y las obligaciones derivadas de la legislación aplicable, la Unidad de Concesiones y Servicios, a través de la Dirección General de Concesiones de Telecomunicaciones, mediante oficio IFT/223/UCS/DG-CTEL/2675/2015 de fecha 19 de octubre de 2015, solicitó a la Dirección General de Supervisión adscrita a la Unidad de Cumplimiento informara si dicha concesionaria se encontraba en cumplimiento de las obligaciones y condiciones relacionadas con su título de concesión y demás ordenamientos aplicables',\n",
       "  'Dirección General'),\n",
       " '199': (['V', 'V'],\n",
       "  'El 30 de octubre de 1997, la Secretaría de Comunicaciones y Transportes (la “Secretaría”), otorgó en favor de Higinio Santiago Lastiri Quirós, un título de concesión para instalar, operar y explotar una red pública de telecomunicaciones para prestar el servicio de televisión restringida, con cobertura en Calpulalpan, Tlaxcala con una vigencia de 30 (treinta) años contados a partir de su otorgamiento (la “Concesión”)',\n",
       "  ''),\n",
       " '2': (['V'],\n",
       "  '“… le informo que de la revisión documental del expediente 02/0127, integrado por la Dirección General de Adquisiciones, Recursos Materiales y Servicios Generales de este Instituto a nombre de TV de Calpulalpan, S',\n",
       "  ''),\n",
       " '200': (['V', 'V'],\n",
       "  'Con oficio CFT/D06/CGST/CGTVAR/1122/2002 de fecha 8 de febrero de 2002, la entonces Dirección General de Televisión y Audio Restringidos, adscrita a la Coordinación General de Servicios de Telecomunicaciones de la extinta Comisión Federal de Telecomunicaciones (la “Comisión”), autorizó la ampliación de cobertura de la Concesión, hacia las localidades de Emiliano Zapata, Hidalgo y Nanacamilpa, Tlaxcala',\n",
       "  'Concesión,'),\n",
       " '201': (['V', 'I', 'III'],\n",
       "  'Con fecha 11 de junio de 2013, se publicó en el Diario Oficial de la Federación el “Decreto por el que se reforman y adicionan diversas disposiciones de los artículos 6o',\n",
       "  'Federación'),\n",
       " '223': ([],\n",
       "  'Por lo que hace al tercer requisito señalado en el artículo 27 de los Lineamientos que señala que para que proceda la solicitud para transitar a la Concesión Única para Uso Comercial, el solicitante deberá encontrarse en cumplimiento de las obligaciones establecidas en su título de concesión y las obligaciones derivadas de la legislación aplicable, la Unidad de Concesiones y Servicios, a través de la Dirección General de Concesiones de Telecomunicaciones, mediante oficio IFT/223/UCS/DG-CTEL/2675/2015 de fecha 19 de octubre de 2015, solicitó a la Dirección General de Supervisión adscrita a la Unidad de Cumplimiento informara si dicha concesionaria se encontraba en cumplimiento de las obligaciones y condiciones relacionadas con su título de concesión y demás ordenamientos aplicables',\n",
       "  'Dirección General'),\n",
       " '225': ([],\n",
       "  'Mediante oficio IFT/225/UC/DG-SUV/6031/2015 de fecha 17 de noviembre de 2015, la Dirección General de Supervisión, adscrita a la Unidad de Cumplimiento remitió la opinión correspondiente con respecto a la Solicitud de Transición',\n",
       "  ''),\n",
       " '24': (['V', 'V', 'IX'],\n",
       "  'Con fecha 24 de julio de 2015, se publicaron en el Diario Oficial de la Federación los “Lineamientos generales para el otorgamiento de concesiones a que se refiere el título cuarto de la Ley Federal de Telecomunicaciones y Radiodifusión” (los “Lineamientos”)',\n",
       "  'Federación'),\n",
       " '25': (['V'],\n",
       "  ', presentó ante la Dirección General de Política de Telecomunicaciones de la Secretaría, escrito mediante el cual hace de conocimiento que su representada dará inicio al servicio de transporte de señales del servicio local, a partir del 25 de julio de 2007, de conformidad con el “Acuerdo por el que se modifica el Anexo A y se adiciona, según corresponda, el Anexo B o C. a los títulos de concesión para instalar, operar y explotar redes públicas de telecomunicaciones que comprenden el servicio de televisión restringida a través de redes cableadas, para incluir el servicio de transmisión bidireccional de datos”, publicado en el Diario Oficial de la Federación el 7 de octubre de 2003',\n",
       "  'Secretaría,'),\n",
       " '26': ([],\n",
       "  'El 4 de septiembre de 2014, se publicó en el Diario Oficial de la Federación el “Estatuto Orgánico del Instituto Federal de Telecomunicaciones” (el “Estatuto Orgánico”), mismo que entró en vigor el 26 de septiembre de 2014 y fue modificado el 17 de octubre del mismo año',\n",
       "  'Federación'),\n",
       " '27': (['V'],\n",
       "  ', 27, 28, 73, 78, 94 y 105 de la Constitución Política de los Estados Unidos Mexicanos, en materia de telecomunicaciones” (el “Decreto de Reforma Constitucional”), mediante el cual se creó el Instituto Federal de Telecomunicaciones (el “Instituto”), como un órgano autónomo que tiene por objeto el desarrollo eficiente de la radiodifusión y las telecomunicaciones',\n",
       "  'Constitución Política de los Estados Unidos Mexicanos,'),\n",
       " '28': ([],\n",
       "  ', 27, 28, 73, 78, 94 y 105 de la Constitución Política de los Estados Unidos Mexicanos, en materia de telecomunicaciones” (el “Decreto de Reforma Constitucional”), mediante el cual se creó el Instituto Federal de Telecomunicaciones (el “Instituto”), como un órgano autónomo que tiene por objeto el desarrollo eficiente de la radiodifusión y las telecomunicaciones',\n",
       "  'Constitución Política de los Estados Unidos Mexicanos,'),\n",
       " '30': (['V'],\n",
       "  'El 30 de octubre de 1997, la Secretaría de Comunicaciones y Transportes (la “Secretaría”), otorgó en favor de Higinio Santiago Lastiri Quirós, un título de concesión para instalar, operar y explotar una red pública de telecomunicaciones para prestar el servicio de televisión restringida, con cobertura en Calpulalpan, Tlaxcala con una vigencia de 30 (treinta) años contados a partir de su otorgamiento (la “Concesión”)',\n",
       "  ''),\n",
       " '32': ([],\n",
       "  'Conforme a los artículos 32 y 33 fracción VI del Estatuto Orgánico, corresponde a la Unidad de Concesiones y Servicios, a través de la Dirección General de Concesiones de Telecomunicaciones, tramitar y evaluar, entre otras, las solicitudes de autorización para transitar a la concesión única en los casos de concesiones de telecomunicaciones, incluyendo, en su caso, los términos y condiciones a los que deberán sujetarse los concesionarios, para someterlas a consideración del Pleno',\n",
       "  'Estatuto Orgánico,'),\n",
       " '33': (['VI', 'VI'],\n",
       "  'Conforme a los artículos 32 y 33 fracción VI del Estatuto Orgánico, corresponde a la Unidad de Concesiones y Servicios, a través de la Dirección General de Concesiones de Telecomunicaciones, tramitar y evaluar, entre otras, las solicitudes de autorización para transitar a la concesión única en los casos de concesiones de telecomunicaciones, incluyendo, en su caso, los términos y condiciones a los que deberán sujetarse los concesionarios, para someterlas a consideración del Pleno',\n",
       "  'Estatuto Orgánico,'),\n",
       " '35': (['I'],\n",
       "  '35 fracción I, 36, 38 y 39 de la Ley Federal de Procedimiento Administrativo',\n",
       "  'Ley Federal'),\n",
       " '36': ([],\n",
       "  '35 fracción I, 36, 38 y 39 de la Ley Federal de Procedimiento Administrativo',\n",
       "  'Ley Federal'),\n",
       " '38': ([],\n",
       "  '35 fracción I, 36, 38 y 39 de la Ley Federal de Procedimiento Administrativo',\n",
       "  'Ley Federal'),\n",
       " '39': ([],\n",
       "  '35 fracción I, 36, 38 y 39 de la Ley Federal de Procedimiento Administrativo',\n",
       "  'Ley Federal'),\n",
       " '4': ([],\n",
       "  'El 4 de septiembre de 2014, se publicó en el Diario Oficial de la Federación el “Estatuto Orgánico del Instituto Federal de Telecomunicaciones” (el “Estatuto Orgánico”), mismo que entró en vigor el 26 de septiembre de 2014 y fue modificado el 17 de octubre del mismo año',\n",
       "  'Federación'),\n",
       " '41': ([],\n",
       "  '1, 6 fracciones I, 14 fracción X, 32 y 33 fracción VI y 41 y 42 fracciones I, II y XV del Estatuto Orgánico del Instituto Federal de Telecomunicaciones',\n",
       "  'Estatuto Orgánico del Instituto Federal'),\n",
       " '42': (['I', 'II', 'XV'],\n",
       "  '1, 6 fracciones I, 14 fracción X, 32 y 33 fracción VI y 41 y 42 fracciones I, II y XV del Estatuto Orgánico del Instituto Federal de Telecomunicaciones',\n",
       "  'Estatuto Orgánico del Instituto Federal'),\n",
       " '45': ([],\n",
       "  'artículos 7, 16 y 45 de la Ley Federal de Telecomunicaciones y Radiodifusión',\n",
       "  'Ley Federal'),\n",
       " '6': (['I', 'IV', 'I'],\n",
       "  'Con oficio CFT/D06/CGST/CGTVAR/1122/2002 de fecha 8 de febrero de 2002, la entonces Dirección General de Televisión y Audio Restringidos, adscrita a la Coordinación General de Servicios de Telecomunicaciones de la extinta Comisión Federal de Telecomunicaciones (la “Comisión”), autorizó la ampliación de cobertura de la Concesión, hacia las localidades de Emiliano Zapata, Hidalgo y Nanacamilpa, Tlaxcala',\n",
       "  'Concesión,'),\n",
       " '60': ([],\n",
       "  'El Instituto analizará, evaluará y resolverá la transición y consolidación de concesiones dentro del plazo de 60 (sesenta) días naturales contados a partir del día siguiente en que dicha solicitud haya sido presentada ante el Instituto',\n",
       "  ''),\n",
       " '66': ([],\n",
       "  '6 fracción IV, 15 fracciones IV, 16, 17 fracción I, 66, 67 fracción I, 68, 72 de la Ley Federal de Telecomunicaciones y Radiodifusión',\n",
       "  'Ley Federal'),\n",
       " '67': (['I', 'I'],\n",
       "  'Tomando en cuenta lo anterior, derivado de la solicitud de transición que presenten los concesionarios de redes públicas de telecomunicaciones, se otorgará una concesión única para uso comercial, en términos del artículo 67 fracción I, con la cual se pretende prestar todo tipo de servicios públicos de telecomunicaciones y radiodifusión con fines de lucro, y en cualquier parte del territorio nacional',\n",
       "  ''),\n",
       " '68': ([],\n",
       "  '6 fracción IV, 15 fracciones IV, 16, 17 fracción I, 66, 67 fracción I, 68, 72 de la Ley Federal de Telecomunicaciones y Radiodifusión',\n",
       "  'Ley Federal'),\n",
       " '6o.': ([],\n",
       "  'Decreto de Reforma Constitucional. Con fecha 11 de junio de 2013, se publicó en el Diario Oficial de la Federación el “Decreto por el que se reforman y adicionan diversas disposiciones de los artículos 6o., 7o., 27, 28, 73, 78, 94 y 105 de la Constitución Política de los Estados Unidos Mexicanos, en materia de telecomunicaciones” (el “Decreto de Reforma Constitucional”), mediante el cual se creó el Instituto Federal de Telecomunicaciones (el “Instituto”), como un órgano autónomo que tiene por objeto el desarrollo eficiente de la radiodifusión y las telecomunicaciones.',\n",
       "  'Federación'),\n",
       " '7': ([],\n",
       "  'Con fecha 17 de julio de 2007, el representante legal de TV de Calpulalpan, S',\n",
       "  ''),\n",
       " '72': ([],\n",
       "  '6 fracción IV, 15 fracciones IV, 16, 17 fracción I, 66, 67 fracción I, 68, 72 de la Ley Federal de Telecomunicaciones y Radiodifusión',\n",
       "  'Ley Federal'),\n",
       " '73': ([],\n",
       "  ', 27, 28, 73, 78, 94 y 105 de la Constitución Política de los Estados Unidos Mexicanos, en materia de telecomunicaciones” (el “Decreto de Reforma Constitucional”), mediante el cual se creó el Instituto Federal de Telecomunicaciones (el “Instituto”), como un órgano autónomo que tiene por objeto el desarrollo eficiente de la radiodifusión y las telecomunicaciones',\n",
       "  'Constitución Política de los Estados Unidos Mexicanos,'),\n",
       " '78': ([],\n",
       "  ', 27, 28, 73, 78, 94 y 105 de la Constitución Política de los Estados Unidos Mexicanos, en materia de telecomunicaciones” (el “Decreto de Reforma Constitucional”), mediante el cual se creó el Instituto Federal de Telecomunicaciones (el “Instituto”), como un órgano autónomo que tiene por objeto el desarrollo eficiente de la radiodifusión y las telecomunicaciones',\n",
       "  'Constitución Política de los Estados Unidos Mexicanos,'),\n",
       " '7o.': ([],\n",
       "  'Decreto de Reforma Constitucional. Con fecha 11 de junio de 2013, se publicó en el Diario Oficial de la Federación el “Decreto por el que se reforman y adicionan diversas disposiciones de los artículos 6o., 7o., 27, 28, 73, 78, 94 y 105 de la Constitución Política de los Estados Unidos Mexicanos, en materia de telecomunicaciones” (el “Decreto de Reforma Constitucional”), mediante el cual se creó el Instituto Federal de Telecomunicaciones (el “Instituto”), como un órgano autónomo que tiene por objeto el desarrollo eficiente de la radiodifusión y las telecomunicaciones.',\n",
       "  'Federación'),\n",
       " '8': ([],\n",
       "  'Con oficio CFT/D06/CGST/CGTVAR/1122/2002 de fecha 8 de febrero de 2002, la entonces Dirección General de Televisión y Audio Restringidos, adscrita a la Coordinación General de Servicios de Telecomunicaciones de la extinta Comisión Federal de Telecomunicaciones (la “Comisión”), autorizó la ampliación de cobertura de la Concesión, hacia las localidades de Emiliano Zapata, Hidalgo y Nanacamilpa, Tlaxcala',\n",
       "  'Concesión,'),\n",
       " '9': ([], 'Con fecha 9 de octubre de 2015, TV de Calpulalpan, S', ''),\n",
       " '94': ([],\n",
       "  ', 27, 28, 73, 78, 94 y 105 de la Constitución Política de los Estados Unidos Mexicanos, en materia de telecomunicaciones” (el “Decreto de Reforma Constitucional”), mediante el cual se creó el Instituto Federal de Telecomunicaciones (el “Instituto”), como un órgano autónomo que tiene por objeto el desarrollo eficiente de la radiodifusión y las telecomunicaciones',\n",
       "  'Constitución Política de los Estados Unidos Mexicanos,'),\n",
       " '97': (['IX'],\n",
       "  'acompañó a su solicitud el comprobante de pago de derechos por concepto del estudio de la solicitud de modificación del título de concesión, conforme al inciso a) fracción IX del artículo 97 de la Ley Federal de Derechos, establecido en el penúltimo párrafo del mismo artículo de los Lineamientos',\n",
       "  'Ley Federal')}"
      ]
     },
     "execution_count": 32,
     "metadata": {},
     "output_type": "execute_result"
    }
   ],
   "source": [
    "law_data"
   ]
  },
  {
   "cell_type": "code",
   "execution_count": 33,
   "metadata": {
    "collapsed": false
   },
   "outputs": [],
   "source": [
    "# Data CSV serializer\n",
    "law_header = ['CONTEXTO', 'LEYES', 'ARTÍCULOS', 'FRACCIONES']\n",
    "with open('leyes.csv', 'w') as f:\n",
    "    writer = csv.writer(f)\n",
    "    writer.writerow(law_header)\n",
    "    for art, (fracs, ctx, law) in law_data.items():\n",
    "        if not fracs:\n",
    "            writer.writerow([ctx, law, art, ''])\n",
    "        for frac in fracs:\n",
    "            writer.writerow([ctx, law, art, frac])"
   ]
  },
  {
   "cell_type": "code",
   "execution_count": null,
   "metadata": {
    "collapsed": true
   },
   "outputs": [],
   "source": []
  }
 ],
 "metadata": {
  "kernelspec": {
   "display_name": "Python 3",
   "language": "python",
   "name": "python3"
  },
  "language_info": {
   "codemirror_mode": {
    "name": "ipython",
    "version": 3
   },
   "file_extension": ".py",
   "mimetype": "text/x-python",
   "name": "python",
   "nbconvert_exporter": "python",
   "pygments_lexer": "ipython3",
   "version": "3.5.2"
  }
 },
 "nbformat": 4,
 "nbformat_minor": 0
}
